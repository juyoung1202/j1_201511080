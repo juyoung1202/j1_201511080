{
 "cells": [
  {
   "cell_type": "code",
   "execution_count": 1,
   "metadata": {
    "collapsed": false
   },
   "outputs": [
    {
     "name": "stdout",
     "output_type": "stream",
     "text": [
      "Installed plantuml_magics.py. To use it, type:\n",
      "  %load_ext plantuml_magics\n"
     ]
    }
   ],
   "source": [
    "%install_ext https://raw.githubusercontent.com/sberke/ipython-plantuml/master/plantuml_magics.py"
   ]
  },
  {
   "cell_type": "code",
   "execution_count": 2,
   "metadata": {
    "collapsed": true
   },
   "outputs": [],
   "source": [
    "%load_ext plantuml_magics"
   ]
  },
  {
   "cell_type": "code",
   "execution_count": 5,
   "metadata": {
    "collapsed": false
   },
   "outputs": [
    {
     "data": {
      "text/plain": [
       "['./plantuml.jar']"
      ]
     },
     "execution_count": 5,
     "metadata": {},
     "output_type": "execute_result"
    }
   ],
   "source": [
    "import glob\n",
    "glob.glob(r'./*.jar')"
   ]
  },
  {
   "cell_type": "markdown",
   "metadata": {},
   "source": [
    "https://docs.oracle.com/javase/7/docs/api/java/lang/Object.html \n",
    "\n",
    "addObserver(등록) 중요"
   ]
  },
  {
   "cell_type": "markdown",
   "metadata": {},
   "source": [
    "@startuml\n",
    "\n",
    "title Conditional - draw Triagle or Square\n",
    "\n",
    "Interface java.until.Observaer{\n",
    "    update(Observable o, Object arg)\n",
    "}\n",
    "class Observable{Observer o):\n",
    "    +addObserver(Observer o):void\n",
    "    +notifyObservers():void   *1:n관계이므로 observers \n",
    "    +hasChanged():boolean\n",
    "    #(protected)setChanged():void //다른 녀석들은 모두 public\n",
    "    \n",
    "    \n",
    "}\n",
    "\n",
    "@enduml"
   ]
  },
  {
   "cell_type": "markdown",
   "metadata": {},
   "source": [
    "### obsever는 구독자\n",
    "subscriber\n",
    "### observable은 신문\n",
    "\n",
    "## public class Object\n",
    "### object가 최상위 클래스이다 모든 클래스의 시조"
   ]
  },
  {
   "cell_type": "markdown",
   "metadata": {},
   "source": [
    "ocp 예제\n",
    "class Observable{Observer o):\n",
    "    \n",
    "    \n",
    "    \n",
    "}\n",
    "\n",
    "notifyObservers() 일대1관계이므로"
   ]
  },
  {
   "cell_type": "code",
   "execution_count": 8,
   "metadata": {
    "collapsed": false
   },
   "outputs": [
    {
     "ename": "SyntaxError",
     "evalue": "invalid syntax (<ipython-input-8-acaedd6be8f2>, line 1)",
     "output_type": "error",
     "traceback": [
      "\u001b[0;36m  File \u001b[0;32m\"<ipython-input-8-acaedd6be8f2>\"\u001b[0;36m, line \u001b[0;32m1\u001b[0m\n\u001b[0;31m    ---->는 필드 있는 연관\u001b[0m\n\u001b[0m        ^\u001b[0m\n\u001b[0;31mSyntaxError\u001b[0m\u001b[0;31m:\u001b[0m invalid syntax\n"
     ]
    }
   ],
   "source": [
    "---->는 필드 있는 연관\n",
    "- - ->는 필드 없는 연관"
   ]
  },
  {
   "cell_type": "code",
   "execution_count": null,
   "metadata": {
    "collapsed": true
   },
   "outputs": [],
   "source": [
    "package com.j1.w3;\n",
    "  \n",
    "import ch.aplu.turtle.*;\n",
    "import java.util.*;\n",
    "\n",
    "class MomTurtle extends Turtle implements Observer {\n",
    "  public void updata(Observable o, Object arg){\n",
    "     System.out.println(\"Updata() called, count is\" + ((Integer)arg).intvalue());\n",
    "  }\n",
    "}\n",
    "\n",
    "class BabyTurtle extends Observable{\n",
    " Turtle baby;\n",
    " Double myCurpos;\n",
    " ArrayList<Observer> obs;\n",
    " public BabyTurtle() {\n",
    "   \n",
    "   baby=new Turtle();\n",
    "   myCurpos=baby.getPos();\n",
    "   obs=new ArrayList<Oberver>();\n",
    " }\n",
    " public void addObserver(Observer o){\n",
    "  obs.add(o); \n",
    " }\n",
    " protected void serChanged() {\n",
    "    myCurpos=baby.getPos();\n",
    " }\n",
    " public void notifyObservers(){\n",
    "   for(Observer o:obs)\n",
    "     o.update(this, 1) //옵져버 폴문 다르게쓰는방법\n",
    "}"
   ]
  },
  {
   "cell_type": "code",
   "execution_count": null,
   "metadata": {
    "collapsed": true
   },
   "outputs": [],
   "source": []
  },
  {
   "cell_type": "code",
   "execution_count": null,
   "metadata": {
    "collapsed": true
   },
   "outputs": [],
   "source": []
  }
 ],
 "metadata": {
  "kernelspec": {
   "display_name": "Python 2",
   "language": "python",
   "name": "python2"
  },
  "language_info": {
   "codemirror_mode": {
    "name": "ipython",
    "version": 2
   },
   "file_extension": ".py",
   "mimetype": "text/x-python",
   "name": "python",
   "nbconvert_exporter": "python",
   "pygments_lexer": "ipython2",
   "version": "2.7.10"
  }
 },
 "nbformat": 4,
 "nbformat_minor": 0
}
